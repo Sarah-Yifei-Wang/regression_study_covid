{
 "cells": [
  {
   "cell_type": "markdown",
   "metadata": {},
   "source": [
    "# W203 Lab 3: A Regression Study of COVID-19- Stage 1 Draft"
   ]
  },
  {
   "cell_type": "markdown",
   "metadata": {},
   "source": [
    "## Team- Rashmi Singh, Christina Chen, Tian Zhu, Sarah Yifei Wang"
   ]
  },
  {
   "cell_type": "markdown",
   "metadata": {},
   "source": [
    "## Section 3 Tuesday 6:30 PM PT"
   ]
  },
  {
   "cell_type": "markdown",
   "metadata": {},
   "source": [
    "\n",
    "## 1. Introduction"
   ]
  },
  {
   "cell_type": "markdown",
   "metadata": {},
   "source": [
    "During the time of COVID-19, many studies have been conducted to assess the widespread use of face masks in reducing the spread of the disease. This is particularly true for when masks are used universally within communities with denser populations. The CDC has advocated for masks, or any cloth face coverings for that matter, as a barrier to prevent respiratory droplets from traveling into the air when a person coughs, sneezes, talks, or raises their voice. CNN reports that if 95% of Americans wore face masks in public, it could prevent more than 450,000 deaths by November 1, 2020. Despite the effectiveness of preventing spread of COVID-19 when wearing a mask, many have not followed suit in the accordance with CDC guidelines. As states enter different phases of reopening, many have executed mandatory face mask use policy for employees in public-facing businesses. The concept that this specific study will measure is \n",
    "###### The effects of the policy of mandating face mask in public facing businesses  on the total number of COVID cases recorded for each state. \n",
    "We assume the dates on which the mandate was placed is critical to our study for  measuring  how the timeliness of the mandate date ultimately save thousands of lives. We also want to understand how other factors such the population at risk of serious illness, stay at home duration, business closed duration has played a role in the total number of cases and how they interact with face mask mandate policy.\n",
    "\n",
    "In our study, we conducted various tasks prior to our linear regression models: \n",
    "1. First, we studied the data and tried to understand the distribution of total number of cases by each state, which we used as dependent variable for our study. Our aim in understanding the distribution is to identify outliers as well as get a general idea about the dependent variable spread. \n",
    "2. Then we cleaned our data and identified issues such as duplicates or missing value that can affect our study. \n",
    "3. We also performed exploratory data analysis (EDA) in order to form our base model and identified key variables to be used for our linear regression models. \n",
    "4. We identified required data transformation for effective study and required key variables created from 'Mandate face mask in public facing business' date\n",
    "5. Furthermore, we also took into consideration the number of days businesses were closed, as the mandate only restricts employess in public-facing businesses; number of days stay at home policy was in place; population at risk and number of days the face mask mandate is in place.\n",
    "6. We studied the correlation between the independent variables and with the dependent variable to assess our assumption.\n",
    "7. We created base model and conducted 2 improvements on it. We checked the quality of model along with multicollinearity check.\n",
    "8. Lastly, we assessed CLM assumptions and verified if any voilation are there. We also summarized statitical and practical significance of our study.\n",
    "9. We did the study on ommitted variables before concluding."
   ]
  },
  {
   "cell_type": "markdown",
   "metadata": {},
   "source": [
    "######  Installing required packages for the study"
   ]
  },
  {
   "cell_type": "code",
   "execution_count": 1,
   "metadata": {},
   "outputs": [
    {
     "name": "stdout",
     "output_type": "stream",
     "text": [
      "package 'DataExplorer' successfully unpacked and MD5 sums checked\n",
      "\n",
      "The downloaded binary packages are in\n",
      "\tC:\\Users\\rashm\\AppData\\Local\\Temp\\RtmpgL0GkY\\downloaded_packages\n",
      "package 'lmtest' successfully unpacked and MD5 sums checked\n",
      "\n",
      "The downloaded binary packages are in\n",
      "\tC:\\Users\\rashm\\AppData\\Local\\Temp\\RtmpgL0GkY\\downloaded_packages\n",
      "package 'ggpubr' successfully unpacked and MD5 sums checked\n",
      "\n",
      "The downloaded binary packages are in\n",
      "\tC:\\Users\\rashm\\AppData\\Local\\Temp\\RtmpgL0GkY\\downloaded_packages\n",
      "package 'stargazer' successfully unpacked and MD5 sums checked\n",
      "\n",
      "The downloaded binary packages are in\n",
      "\tC:\\Users\\rashm\\AppData\\Local\\Temp\\RtmpgL0GkY\\downloaded_packages\n",
      "package 'tidyselect' successfully unpacked and MD5 sums checked\n",
      "\n",
      "The downloaded binary packages are in\n",
      "\tC:\\Users\\rashm\\AppData\\Local\\Temp\\RtmpgL0GkY\\downloaded_packages\n",
      "package 'tidyverse' successfully unpacked and MD5 sums checked\n",
      "\n",
      "The downloaded binary packages are in\n",
      "\tC:\\Users\\rashm\\AppData\\Local\\Temp\\RtmpgL0GkY\\downloaded_packages\n",
      "package 'janitor' successfully unpacked and MD5 sums checked\n",
      "\n",
      "The downloaded binary packages are in\n",
      "\tC:\\Users\\rashm\\AppData\\Local\\Temp\\RtmpgL0GkY\\downloaded_packages\n"
     ]
    }
   ],
   "source": [
    "suppressMessages(install.packages(\"DataExplorer\"))\n",
    "suppressMessages(install.packages(\"lmtest\"))\n",
    "suppressMessages(install.packages(\"ggpubr\"))\n",
    "#install.packages(\"sandwich\")\n",
    "suppressMessages(install.packages(\"stargazer\"))\n",
    "suppressMessages(install.packages(\"tidyselect\"))\n",
    "suppressMessages(install.packages(\"tidyverse\"))\n",
    "suppressMessages(install.packages(\"janitor\"))"
   ]
  },
  {
   "cell_type": "code",
   "execution_count": 2,
   "metadata": {},
   "outputs": [
    {
     "name": "stderr",
     "output_type": "stream",
     "text": [
      "Warning message:\n",
      "\"package 'plyr' was built under R version 3.6.3\"Warning message:\n",
      "\"package 'dplyr' was built under R version 3.6.3\"\n",
      "Attaching package: 'dplyr'\n",
      "\n",
      "The following objects are masked from 'package:plyr':\n",
      "\n",
      "    arrange, count, desc, failwith, id, mutate, rename, summarise,\n",
      "    summarize\n",
      "\n",
      "The following objects are masked from 'package:stats':\n",
      "\n",
      "    filter, lag\n",
      "\n",
      "The following objects are masked from 'package:base':\n",
      "\n",
      "    intersect, setdiff, setequal, union\n",
      "\n",
      "Warning message:\n",
      "\"package 'ggplot2' was built under R version 3.6.3\"Warning message:\n",
      "\"package 'data.table' was built under R version 3.6.3\"\n",
      "Attaching package: 'data.table'\n",
      "\n",
      "The following objects are masked from 'package:dplyr':\n",
      "\n",
      "    between, first, last\n",
      "\n",
      "Warning message:\n",
      "\"package 'DataExplorer' was built under R version 3.6.3\"\n",
      "Attaching package: 'lubridate'\n",
      "\n",
      "The following objects are masked from 'package:data.table':\n",
      "\n",
      "    hour, isoweek, mday, minute, month, quarter, second, wday, week,\n",
      "    yday, year\n",
      "\n",
      "The following object is masked from 'package:plyr':\n",
      "\n",
      "    here\n",
      "\n",
      "The following object is masked from 'package:base':\n",
      "\n",
      "    date\n",
      "\n",
      "Warning message:\n",
      "\"package 'gridExtra' was built under R version 3.6.3\"\n",
      "Attaching package: 'gridExtra'\n",
      "\n",
      "The following object is masked from 'package:dplyr':\n",
      "\n",
      "    combine\n",
      "\n",
      "Warning message:\n",
      "\"package 'tidyverse' was built under R version 3.6.3\"-- Attaching packages --------------------------------------- tidyverse 1.3.0 --\n",
      "v tibble  3.0.1     v purrr   0.3.4\n",
      "v tidyr   1.1.0     v stringr 1.4.0\n",
      "v readr   1.3.1     v forcats 0.4.0\n",
      "Warning message:\n",
      "\"package 'tibble' was built under R version 3.6.3\"Warning message:\n",
      "\"package 'tidyr' was built under R version 3.6.3\"Warning message:\n",
      "\"package 'purrr' was built under R version 3.6.3\"Warning message:\n",
      "\"package 'stringr' was built under R version 4.0.2\"-- Conflicts ------------------------------------------ tidyverse_conflicts() --\n",
      "x dplyr::arrange()         masks plyr::arrange()\n",
      "x lubridate::as.difftime() masks base::as.difftime()\n",
      "x data.table::between()    masks dplyr::between()\n",
      "x gridExtra::combine()     masks dplyr::combine()\n",
      "x purrr::compact()         masks plyr::compact()\n",
      "x dplyr::count()           masks plyr::count()\n",
      "x lubridate::date()        masks base::date()\n",
      "x dplyr::failwith()        masks plyr::failwith()\n",
      "x dplyr::filter()          masks stats::filter()\n",
      "x data.table::first()      masks dplyr::first()\n",
      "x lubridate::here()        masks plyr::here()\n",
      "x lubridate::hour()        masks data.table::hour()\n",
      "x dplyr::id()              masks plyr::id()\n",
      "x lubridate::intersect()   masks base::intersect()\n",
      "x lubridate::isoweek()     masks data.table::isoweek()\n",
      "x dplyr::lag()             masks stats::lag()\n",
      "x data.table::last()       masks dplyr::last()\n",
      "x lubridate::mday()        masks data.table::mday()\n",
      "x lubridate::minute()      masks data.table::minute()\n",
      "x lubridate::month()       masks data.table::month()\n",
      "x dplyr::mutate()          masks plyr::mutate()\n",
      "x lubridate::quarter()     masks data.table::quarter()\n",
      "x dplyr::rename()          masks plyr::rename()\n",
      "x lubridate::second()      masks data.table::second()\n",
      "x lubridate::setdiff()     masks base::setdiff()\n",
      "x dplyr::summarise()       masks plyr::summarise()\n",
      "x dplyr::summarize()       masks plyr::summarize()\n",
      "x purrr::transpose()       masks data.table::transpose()\n",
      "x lubridate::union()       masks base::union()\n",
      "x lubridate::wday()        masks data.table::wday()\n",
      "x lubridate::week()        masks data.table::week()\n",
      "x lubridate::yday()        masks data.table::yday()\n",
      "x lubridate::year()        masks data.table::year()\n",
      "Warning message:\n",
      "\"package 'lmtest' was built under R version 3.6.3\"Warning message:\n",
      "\"package 'zoo' was built under R version 4.0.2\"\n",
      "Attaching package: 'zoo'\n",
      "\n",
      "The following objects are masked from 'package:base':\n",
      "\n",
      "    as.Date, as.Date.numeric\n",
      "\n",
      "Warning message:\n",
      "\"package 'car' was built under R version 3.6.3\"Warning message:\n",
      "\"package 'carData' was built under R version 3.6.3\"\n",
      "Attaching package: 'car'\n",
      "\n",
      "The following object is masked from 'package:purrr':\n",
      "\n",
      "    some\n",
      "\n",
      "The following object is masked from 'package:dplyr':\n",
      "\n",
      "    recode\n",
      "\n",
      "Warning message:\n",
      "\"package 'sandwich' was built under R version 4.0.2\"\n",
      "Please cite as: \n",
      "\n",
      " Hlavac, Marek (2018). stargazer: Well-Formatted Regression and Summary Statistics Tables.\n",
      " R package version 5.2.2. https://CRAN.R-project.org/package=stargazer \n",
      "\n",
      "Warning message:\n",
      "\"package 'janitor' was built under R version 3.6.3\"\n",
      "Attaching package: 'janitor'\n",
      "\n",
      "The following objects are masked from 'package:stats':\n",
      "\n",
      "    chisq.test, fisher.test\n",
      "\n",
      "Warning message:\n",
      "\"package 'ggpubr' was built under R version 3.6.3\"\n",
      "Attaching package: 'ggpubr'\n",
      "\n",
      "The following object is masked from 'package:plyr':\n",
      "\n",
      "    mutate\n",
      "\n"
     ]
    }
   ],
   "source": [
    "library(plyr, quietly = T)\n",
    "library(dplyr, quietly = T)\n",
    "library(ggplot2, quietly = T)\n",
    "library(data.table, quietly = T)\n",
    "library(DataExplorer, quietly = T)\n",
    "library(lubridate, quietly = T)\n",
    "library(gridExtra, quietly = T)\n",
    "library(readxl, quietly = T)\n",
    "library(tidyverse, quietly = T)\n",
    "library(readxl, quietly = T)\n",
    "library(lmtest, quietly = T)\n",
    "library(car, quietly = T)\n",
    "library(sandwich, quietly = T)\n",
    "library(stargazer, quietly = T)\n",
    "library(janitor, quietly = T)\n",
    "library(ggpubr, quietly = T)\n"
   ]
  },
  {
   "cell_type": "code",
   "execution_count": 3,
   "metadata": {},
   "outputs": [],
   "source": [
    "#loading the data\n",
    "suppressWarnings(suppressMessages(df<- read_excel(\"covid-19_dist0720 .xlsx\", sheet = \"Covid-19\")))\n"
   ]
  },
  {
   "cell_type": "markdown",
   "metadata": {},
   "source": [
    "\n",
    "## 2. Model Building Process"
   ]
  },
  {
   "cell_type": "markdown",
   "metadata": {},
   "source": [
    "### Data Cleaning"
   ]
  },
  {
   "cell_type": "code",
   "execution_count": 4,
   "metadata": {},
   "outputs": [
    {
     "data": {
      "text/html": [
       "52"
      ],
      "text/latex": [
       "52"
      ],
      "text/markdown": [
       "52"
      ],
      "text/plain": [
       "[1] 52"
      ]
     },
     "metadata": {},
     "output_type": "display_data"
    }
   ],
   "source": [
    "# Number of records in the data\n",
    "nrow(df)\n",
    "\n"
   ]
  },
  {
   "cell_type": "markdown",
   "metadata": {},
   "source": [
    "###### 1. Remove duplicates\n",
    "\n",
    "Scanning through the data, it looks like there are two records for Arizona. We will drop the row 'arizona' as it looks duplicate. \n"
   ]
  },
  {
   "cell_type": "code",
   "execution_count": 5,
   "metadata": {},
   "outputs": [],
   "source": [
    "# removing duplicate row for Arizona\n",
    "df<-df[-c(4),]\n"
   ]
  },
  {
   "cell_type": "markdown",
   "metadata": {},
   "source": [
    "##### 2. Outliers\n",
    "\n",
    "Lets look at summary and histogram of total number of cases to examine the the distribution."
   ]
  },
  {
   "cell_type": "code",
   "execution_count": 6,
   "metadata": {},
   "outputs": [
    {
     "data": {
      "text/plain": [
       "   Min. 1st Qu.  Median    Mean 3rd Qu.    Max. \n",
       "    939   11415   31353   56128   68003  398828 "
      ]
     },
     "metadata": {},
     "output_type": "display_data"
    }
   ],
   "source": [
    "summary(df$`Total Cases`)"
   ]
  },
  {
   "cell_type": "code",
   "execution_count": 7,
   "metadata": {},
   "outputs": [
    {
     "data": {
      "image/png": "[encoded data removed]",
      "text/plain": [
       "Plot with title \"Histogram of Total cases\""
      ]
     },
     "metadata": {},
     "output_type": "display_data"
    }
   ],
   "source": [
    "hist(df$`Total Cases`, main=\"Histogram of Total cases\")"
   ]
  },
  {
   "cell_type": "markdown",
   "metadata": {},
   "source": [
    "The range of the total cases is very wide with minimum of 939 and maximum close to 400,000. Also, we can see from histogram as well as median and mean value that the distribution is highly right skew. Hence we need to identify outliers and determine if they can be removed for our study"
   ]
  },
  {
   "cell_type": "code",
   "execution_count": 8,
   "metadata": {},
   "outputs": [
    {
     "name": "stderr",
     "output_type": "stream",
     "text": [
      "Warning message:\n",
      "\"Use of `df$State` is discouraged. Use `State` instead.\"Warning message:\n",
      "\"Use of `df$`Total Cases`` is discouraged. Use `Total Cases` instead.\""
     ]
    },
    {
     "data": {
      "image/png": "[encoded data removed]",
      "text/plain": [
       "plot without title"
      ]
     },
     "metadata": {},
     "output_type": "display_data"
    },
    {
     "data": {
      "image/png": "[encoded data removed]",
      "text/plain": [
       "Plot with title \"Boxplot of Total cases\""
      ]
     },
     "metadata": {},
     "output_type": "display_data"
    }
   ],
   "source": [
    "# Outliers \n",
    "q<-ggplot(df, aes(x = df$State, y = df$`Total Cases`))+  geom_point() +  labs(y = \"Total cases\", x = \"State\")\n",
    "q + theme(axis.text.x = element_text(angle = 90, hjust = 1))\n",
    "\n",
    "\n",
    "boxplot(df$`Total Cases`, main=\"Boxplot of Total cases\")"
   ]
  },
  {
   "cell_type": "markdown",
   "metadata": {},
   "source": [
    "From the ggplot and boxplot, we can see that New York,California, Florida, New Jersey and Texas have very large number of cases and also falling outside the maximum of boxplot. It makes practical sense as these states have large population concentrated in metropolitan cities like NYC, LA, etc and do not necessarily follow the characteristics of lifestyle and demographics of other states. New York cases are significantly high because of high cases in NYC alone. The city was the epicenter of the COVID cases as this is a global city with large number of people coming in from different parts of the world and the spread had started there much earlier before emergency was applied. From boxplot we can see that while most states have cases below 100,000, thee states are having much higher cases. Because of the characteristics of the lifestyle and population of these states being very different from other states, it is reasonable to assume them as outlier for this study."
   ]
  },
  {
   "cell_type": "code",
   "execution_count": 9,
   "metadata": {},
   "outputs": [],
   "source": [
    "# Removing  New York,California, Florida, New Jersey and Texas as outlier\n",
    "df <-df[-c(5,10,31,33,44),]\n"
   ]
  },
  {
   "cell_type": "markdown",
   "metadata": {},
   "source": [
    "##### 3. Data Formatting\n",
    "\n",
    "Certain date columns are not in date format, hence we need to convert them into date type in order to use them for study. \n"
   ]
  },
  {
   "cell_type": "code",
   "execution_count": 10,
   "metadata": {},
   "outputs": [],
   "source": [
    "#Converting date columns to date\n",
    "df$`Stay at home/ shelter in place` <- excel_numeric_to_date(df$`Stay at home/ shelter in place`) \n",
    "df$`End/relax stay at home/shelter in place` <- excel_numeric_to_date(df$`End/relax stay at home/shelter in place`)\n",
    "df$`Closed non-essential businesses` <- excel_numeric_to_date(df$`Closed non-essential businesses`)\n",
    "df$`Began to reopen businesses statewide` <- excel_numeric_to_date(df$`Began to reopen businesses statewide`)\n",
    "df$`Mandate face mask use by employees in public-facing businesses` <- excel_numeric_to_date(df$`Mandate face mask use by employees in public-facing businesses`)\n"
   ]
  },
  {
   "cell_type": "code",
   "execution_count": 11,
   "metadata": {},
   "outputs": [
    {
     "data": {
      "text/plain": [
       "    Min.  1st Qu.   Median     Mean  3rd Qu.     Max. \n",
       "  577737  1503920  3757872  4546924  6550522 12807060 "
      ]
     },
     "metadata": {},
     "output_type": "display_data"
    },
    {
     "data": {
      "text/plain": [
       "   Min. 1st Qu.  Median    Mean 3rd Qu.    Max. \n",
       "    939   10293   24657   35605   50575  148373 "
      ]
     },
     "metadata": {},
     "output_type": "display_data"
    }
   ],
   "source": [
    "summary(df$`Population 2018`)\n",
    "summary(df$`Total Cases`)"
   ]
  },
  {
   "cell_type": "markdown",
   "metadata": {},
   "source": [
    "As we can see from summary,both population and cases are not on same scale, it is important to have them normalized for effective regression study."
   ]
  },
  {
   "cell_type": "code",
   "execution_count": 12,
   "metadata": {},
   "outputs": [
    {
     "data": {
      "text/plain": [
       "   Min. 1st Qu.  Median    Mean 3rd Qu.    Max. \n",
       " 0.0000  0.0600  0.1650  0.2354  0.3350  1.0000 "
      ]
     },
     "metadata": {},
     "output_type": "display_data"
    },
    {
     "data": {
      "text/plain": [
       "   Min. 1st Qu.  Median    Mean 3rd Qu.    Max. \n",
       " 0.0000  0.0775  0.2600  0.3241  0.4875  1.0000 "
      ]
     },
     "metadata": {},
     "output_type": "display_data"
    }
   ],
   "source": [
    "#normalization of total cases and population 2018 variables\n",
    "\n",
    "df$case_norm <- round((df$`Total Cases` - min(df$`Total Cases`))/(max(df$`Total Cases`)-min(df$`Total Cases`)),2)\n",
    "df$pop18_norm <- round((df$`Population 2018` - min(df$`Population 2018`))/(max(df$`Population 2018`)-min(df$`Population 2018`)),2)\n",
    "\n",
    "summary(df$case_norm)\n",
    "summary(df$pop18_norm)"
   ]
  },
  {
   "cell_type": "markdown",
   "metadata": {},
   "source": [
    "### Identify key variables for regression study\n",
    "\n",
    "As we want to measure the effect of the policy, it is reasonable to look at which states have policy in effect as our assumption is that the not having the face mask mandate in busness policy will have impact on number of cases.\n",
    "Also, number of cases will also be explained by the population of the state, as the cases will definitely vary with the charactericts of the state (population size, demographics etc). In our study, we will use the population of the state (normalized) as another key variable.\n",
    "Key-Variables in scope:\n",
    "1. Face mask mandate in place (Yes, No)\n",
    "2. Population of the state (normalized)\n"
   ]
  },
  {
   "cell_type": "code",
   "execution_count": 13,
   "metadata": {},
   "outputs": [],
   "source": [
    "#Calculating key variables\n",
    "#encoding Manadate face mask date column to factor 1 and 0. 1 means yes, 0 means No\n",
    "df$`MandateFaceMask_fac` <- ifelse(as.character(df$`Mandate face mask use by employees in public-facing businesses`)==\"1899-12-30\", 0, 1)"
   ]
  },
  {
   "cell_type": "markdown",
   "metadata": {},
   "source": [
    "###### Covariates\n",
    "There could also be other explanatory variables that can explain the number of cases like below. We can use these in improvement models:\n",
    "1. Number of days face mask mandate was delayed- Our assumption is the longer a state took in applying the Face mask in public business mandate policy, the large impact it had on total number of cases.\n",
    "2. Number of days since mandate been applied - Our assumption is that longer the policy has been in place, the more effect the policy has on the number of cases.\n",
    "3. Number of days business were closed- We can assume that in this duration, policy (even if it was in place) will have minimal to no effect, as business itself were closed.\n",
    "4. Number of days stay at home policy was in place- The longer this policy is appplied, the possiblity of people interacting in the business place is minimal.\n",
    "5. Population at risk- This population has higher risk of getting infected and spread infection.\n"
   ]
  },
  {
   "cell_type": "code",
   "execution_count": 14,
   "metadata": {},
   "outputs": [],
   "source": [
    "#Calculating other covariates\n",
    "# Calculating duration variables\n",
    "\n",
    "df$delay_facemask_mandate<- as_datetime(df$`Mandate face mask use by employees in public-facing businesses`) -  as_datetime(df$`State of emergency`)\n",
    "df$DaysSince_Facemask_mandate <- as.numeric(as_datetime(\"2020-07-06\")- as_datetime(df$`Mandate face mask use by employees in public-facing businesses`))\n",
    "df$BusinessClosed_duration <- df$`Began to reopen businesses statewide` -  df$`Closed non-essential businesses`\n",
    "df$Stay_at_Home_duration<-df$`End/relax stay at home/shelter in place` -  df$`Stay at home/ shelter in place`\n",
    "\n",
    "\n"
   ]
  },
  {
   "cell_type": "code",
   "execution_count": 15,
   "metadata": {},
   "outputs": [
    {
     "data": {
      "text/html": [
       "<ol class=list-inline>\n",
       "\t<li>56</li>\n",
       "\t<li>73</li>\n",
       "\t<li>59</li>\n",
       "\t<li>56</li>\n",
       "\t<li>74</li>\n",
       "\t<li>94</li>\n",
       "\t<li>66</li>\n",
       "\t<li>82</li>\n",
       "\t<li>70</li>\n",
       "\t<li>81</li>\n",
       "\t<li>44018</li>\n",
       "\t<li>66</li>\n",
       "\t<li>66</li>\n",
       "\t<li>44018</li>\n",
       "\t<li>44018</li>\n",
       "\t<li>56</li>\n",
       "\t<li>66</li>\n",
       "\t<li>66</li>\n",
       "\t<li>79</li>\n",
       "\t<li>61</li>\n",
       "\t<li>71</li>\n",
       "\t<li>35</li>\n",
       "\t<li>60</li>\n",
       "\t<li>44018</li>\n",
       "\t<li>44018</li>\n",
       "\t<li>63</li>\n",
       "\t<li>58</li>\n",
       "\t<li>66</li>\n",
       "\t<li>61</li>\n",
       "\t<li>10</li>\n",
       "\t<li>69</li>\n",
       "\t<li>68</li>\n",
       "\t<li>44018</li>\n",
       "\t<li>58</li>\n",
       "\t<li>78</li>\n",
       "\t<li>79</li>\n",
       "\t<li>44018</li>\n",
       "\t<li>44018</li>\n",
       "\t<li>44018</li>\n",
       "\t<li>87</li>\n",
       "\t<li>80</li>\n",
       "\t<li>38</li>\n",
       "\t<li>63</li>\n",
       "\t<li>63</li>\n",
       "\t<li>44018</li>\n",
       "\t<li>66</li>\n",
       "</ol>\n"
      ],
      "text/latex": [
       "\\begin{enumerate*}\n",
       "\\item 56\n",
       "\\item 73\n",
       "\\item 59\n",
       "\\item 56\n",
       "\\item 74\n",
       "\\item 94\n",
       "\\item 66\n",
       "\\item 82\n",
       "\\item 70\n",
       "\\item 81\n",
       "\\item 44018\n",
       "\\item 66\n",
       "\\item 66\n",
       "\\item 44018\n",
       "\\item 44018\n",
       "\\item 56\n",
       "\\item 66\n",
       "\\item 66\n",
       "\\item 79\n",
       "\\item 61\n",
       "\\item 71\n",
       "\\item 35\n",
       "\\item 60\n",
       "\\item 44018\n",
       "\\item 44018\n",
       "\\item 63\n",
       "\\item 58\n",
       "\\item 66\n",
       "\\item 61\n",
       "\\item 10\n",
       "\\item 69\n",
       "\\item 68\n",
       "\\item 44018\n",
       "\\item 58\n",
       "\\item 78\n",
       "\\item 79\n",
       "\\item 44018\n",
       "\\item 44018\n",
       "\\item 44018\n",
       "\\item 87\n",
       "\\item 80\n",
       "\\item 38\n",
       "\\item 63\n",
       "\\item 63\n",
       "\\item 44018\n",
       "\\item 66\n",
       "\\end{enumerate*}\n"
      ],
      "text/markdown": [
       "1. 56\n",
       "2. 73\n",
       "3. 59\n",
       "4. 56\n",
       "5. 74\n",
       "6. 94\n",
       "7. 66\n",
       "8. 82\n",
       "9. 70\n",
       "10. 81\n",
       "11. 44018\n",
       "12. 66\n",
       "13. 66\n",
       "14. 44018\n",
       "15. 44018\n",
       "16. 56\n",
       "17. 66\n",
       "18. 66\n",
       "19. 79\n",
       "20. 61\n",
       "21. 71\n",
       "22. 35\n",
       "23. 60\n",
       "24. 44018\n",
       "25. 44018\n",
       "26. 63\n",
       "27. 58\n",
       "28. 66\n",
       "29. 61\n",
       "30. 10\n",
       "31. 69\n",
       "32. 68\n",
       "33. 44018\n",
       "34. 58\n",
       "35. 78\n",
       "36. 79\n",
       "37. 44018\n",
       "38. 44018\n",
       "39. 44018\n",
       "40. 87\n",
       "41. 80\n",
       "42. 38\n",
       "43. 63\n",
       "44. 63\n",
       "45. 44018\n",
       "46. 66\n",
       "\n",
       "\n"
      ],
      "text/plain": [
       " [1]    56    73    59    56    74    94    66    82    70    81 44018    66\n",
       "[13]    66 44018 44018    56    66    66    79    61    71    35    60 44018\n",
       "[25] 44018    63    58    66    61    10    69    68 44018    58    78    79\n",
       "[37] 44018 44018 44018    87    80    38    63    63 44018    66"
      ]
     },
     "metadata": {},
     "output_type": "display_data"
    }
   ],
   "source": [
    "df$DaysSince_Facemask_mandate "
   ]
  },
  {
   "cell_type": "markdown",
   "metadata": {},
   "source": [
    "###### Imputing missing data\n",
    "\n",
    "We see that some of dates are missing, for examples, few states have Business reopen date but not business closing date. Hence we need to impute values for duration variables for such states. This could be issue with data.\n",
    "\n",
    "We can use median number of duration days of other states to impute the missing values"
   ]
  },
  {
   "cell_type": "code",
   "execution_count": 16,
   "metadata": {},
   "outputs": [],
   "source": [
    "#encoding date columns to factor 1 and 0. 1 means yes, 0 means No to be used in median calculations.\n",
    "df$`StayAtHome_fac` <- ifelse(as.character(df$`Stay at home/ shelter in place`)==\"1899-12-30\", 0,1)\n",
    "df$`EndStayAtHome_fac` <- ifelse(as.character(df$`End/relax stay at home/shelter in place`)==\"1899-12-30\",0,1)\n",
    "df$`ClosedNonEssBusiness_fac` <- ifelse(as.character(df$`Closed non-essential businesses`)==\"1899-12-30\",0,1)\n",
    "df$`ReopenBusiness_fac` <- ifelse(as.character(df$`Began to reopen businesses statewide`) == \"1899-12-30\", 0, 1)\n",
    "df$`MandateFaceMask_fac` <- ifelse(as.character(df$`Mandate face mask use by employees in public-facing businesses`)==\"1899-12-30\", 0, 1)\n"
   ]
  },
  {
   "cell_type": "code",
   "execution_count": 17,
   "metadata": {},
   "outputs": [
    {
     "data": {
      "text/plain": [
       "Time difference of 52.56 days"
      ]
     },
     "metadata": {},
     "output_type": "display_data"
    },
    {
     "data": {
      "text/plain": [
       "Time difference of 48.44 days"
      ]
     },
     "metadata": {},
     "output_type": "display_data"
    },
    {
     "data": {
      "text/plain": [
       "Time difference of 42.92 days"
      ]
     },
     "metadata": {},
     "output_type": "display_data"
    }
   ],
   "source": [
    "# calculating mean duration values for missing data\n",
    "(MandateDelay_mean = round(mean(df$delay_facemask_mandate[df$MandateFaceMask_fac== 1]),2))\n",
    "(StayHomeDuration_mean = round(mean(df$Stay_at_Home_duration[df$EndStayAtHome_fac==1 & df$StayAtHome_fac==1]),2))\n",
    "(BusinessClosed_mean = round(mean(df$BusinessClosed_duration[df$ClosedNonEssBusiness_fac==1 & df$ReopenBusiness_fac==1]),2))\n"
   ]
  },
  {
   "cell_type": "code",
   "execution_count": 18,
   "metadata": {},
   "outputs": [],
   "source": [
    "\n",
    "#imputing mean value for missing data\n",
    "\n",
    "df$delay_facemask_mandate[df$MandateFaceMask_fac==0] <- MandateDelay_mean\n",
    "df$Stay_at_Home_duration[df$EndStayAtHome_fac==0 | df$StayAtHome_fac==0] <- StayHomeDuration_mean\n",
    "df$BusinessClosed_duration[df$ClosedNonEssBusiness_fac==0 | df$ReopenBusiness_fac==0] <- BusinessClosed_mean\n",
    "\n",
    "# for the states that have not applied face mask mandate, we can assume them to have 0 days for days since face mask mandate applied.\n",
    "df$DaysSince_Facemask_mandate[df$MandateFaceMask_fac==0] <- 0\n",
    "\n"
   ]
  },
  {
   "cell_type": "markdown",
   "metadata": {},
   "source": [
    "Since percent of state population are not comparable to each other (35% of Alaska is not same as 35% of Massachussets), hence we need to calculate the actual population from percent and normalize them to make them comparable."
   ]
  },
  {
   "cell_type": "code",
   "execution_count": 19,
   "metadata": {},
   "outputs": [],
   "source": [
    "\n",
    "#Calculate population at risk from percent of the population and normalizing\n",
    "df$at_risk_pop <- round((df$`Percent at risk for serious illness due to COVID`*df$`Population 2018`)/100,0)\n",
    "df$at_risk_pop_norm <- round((df$at_risk_pop - min(df$at_risk_pop))/(max(df$at_risk_pop)-min(df$at_risk_pop)),2)\n"
   ]
  },
  {
   "cell_type": "markdown",
   "metadata": {},
   "source": [
    "##### Verification of assumption on the choice of key variables\n",
    "Lets see the correlation of our dependent variable total cases normalized with population 2018 normalized and Mandate face mask (Yes, No)"
   ]
  },
  {
   "cell_type": "code",
   "execution_count": 20,
   "metadata": {},
   "outputs": [
    {
     "data": {
      "text/html": [
       "0.86"
      ],
      "text/latex": [
       "0.86"
      ],
      "text/markdown": [
       "0.86"
      ],
      "text/plain": [
       "[1] 0.86"
      ]
     },
     "metadata": {},
     "output_type": "display_data"
    },
    {
     "name": "stderr",
     "output_type": "stream",
     "text": [
      "`geom_smooth()` using formula 'y ~ x'\n"
     ]
    },
    {
     "data": {
      "image/png": "[encoded data removed]",
      "text/plain": [
       "plot without title"
      ]
     },
     "metadata": {},
     "output_type": "display_data"
    }
   ],
   "source": [
    "#checking correlation between dependent and independent variables\n",
    "\n",
    "#Correlation between population normalized and total cases normalized\n",
    "correl_df <- round(cor(x=df$pop18_norm,y= df$case_norm), 2) \n",
    "correl_df\n",
    "ggscatter(df,x =\"pop18_norm\",y=\"case_norm\", add = \"reg.line\", conf.int = TRUE, cor.coef = TRUE, cor.method =  \"pearson\")\n"
   ]
  },
  {
   "cell_type": "code",
   "execution_count": 21,
   "metadata": {},
   "outputs": [
    {
     "data": {
      "text/html": [
       "0.2"
      ],
      "text/latex": [
       "0.2"
      ],
      "text/markdown": [
       "0.2"
      ],
      "text/plain": [
       "[1] 0.2"
      ]
     },
     "metadata": {},
     "output_type": "display_data"
    },
    {
     "name": "stderr",
     "output_type": "stream",
     "text": [
      "`geom_smooth()` using formula 'y ~ x'\n"
     ]
    },
    {
     "data": {
      "image/png": "[encoded data removed]",
      "text/plain": [
       "plot without title"
      ]
     },
     "metadata": {},
     "output_type": "display_data"
    }
   ],
   "source": [
    "\n",
    "#Correlation between Mnadate face mask factor and total cases normalized\n",
    "correl_df1 <- round(cor(x=df$`MandateFaceMask_fac`,y= df$case_norm), 2) \n",
    "correl_df1\n",
    "ggscatter(df,x =\"MandateFaceMask_fac\",y=\"case_norm\", add = \"reg.line\", conf.int = TRUE, cor.coef = TRUE, cor.method =  \"pearson\")"
   ]
  },
  {
   "cell_type": "markdown",
   "metadata": {},
   "source": [
    "We see a slight positive correlation between total cases and mandate face mask factor suggesting that there is very slight increase in number of cases with mandate of face mask. However it is reasonable to include this variable for our regression model to study its impact and explore the error term."
   ]
  },
  {
   "cell_type": "code",
   "execution_count": 22,
   "metadata": {},
   "outputs": [
    {
     "data": {
      "text/html": [
       "0.12"
      ],
      "text/latex": [
       "0.12"
      ],
      "text/markdown": [
       "0.12"
      ],
      "text/plain": [
       "[1] 0.12"
      ]
     },
     "metadata": {},
     "output_type": "display_data"
    },
    {
     "name": "stderr",
     "output_type": "stream",
     "text": [
      "`geom_smooth()` using formula 'y ~ x'\n"
     ]
    },
    {
     "data": {
      "image/png": "[encoded data removed]",
      "text/plain": [
       "plot without title"
      ]
     },
     "metadata": {},
     "output_type": "display_data"
    }
   ],
   "source": [
    "# correlation between the key variables\n",
    "\n",
    "correl_df3 <- round(cor(x=df$pop18_norm,y= df$`MandateFaceMask_fac`), 2) \n",
    "correl_df3\n",
    "ggscatter(df,x=\"MandateFaceMask_fac\",y =\"pop18_norm\",, add = \"reg.line\", conf.int = TRUE, cor.coef = TRUE, cor.method =  \"pearson\")"
   ]
  },
  {
   "cell_type": "markdown",
   "metadata": {},
   "source": [
    "The key variable population 2018 normalized and mandate face mask factor have very low correlation, hence we can use them for our base model."
   ]
  },
  {
   "cell_type": "markdown",
   "metadata": {},
   "source": [
    "###### Base Model"
   ]
  },
  {
   "cell_type": "code",
   "execution_count": 23,
   "metadata": {},
   "outputs": [
    {
     "data": {
      "text/plain": [
       "\n",
       "Call:\n",
       "lm(formula = case_norm ~ MandateFaceMask_fac + pop18_norm, data = df)\n",
       "\n",
       "Residuals:\n",
       "     Min       1Q   Median       3Q      Max \n",
       "-0.26586 -0.05692 -0.01208  0.04509  0.36001 \n",
       "\n",
       "Coefficients:\n",
       "                    Estimate Std. Error t value Pr(>|t|)    \n",
       "(Intercept)         -0.02524    0.03975  -0.635    0.529    \n",
       "MandateFaceMask_fac  0.05075    0.04150   1.223    0.228    \n",
       "pop18_norm           0.68170    0.06100  11.175 2.66e-14 ***\n",
       "---\n",
       "Signif. codes:  0 '***' 0.001 '**' 0.01 '*' 0.05 '.' 0.1 ' ' 1\n",
       "\n",
       "Residual standard error: 0.1153 on 43 degrees of freedom\n",
       "Multiple R-squared:  0.7537,\tAdjusted R-squared:  0.7422 \n",
       "F-statistic: 65.79 on 2 and 43 DF,  p-value: 8.252e-14\n"
      ]
     },
     "metadata": {},
     "output_type": "display_data"
    }
   ],
   "source": [
    "#Base Model: regression without 2 main covariates\n",
    "\n",
    "linearmodel1 <- lm(case_norm ~ MandateFaceMask_fac + pop18_norm , data = df)\n",
    "summary(linearmodel1)"
   ]
  },
  {
   "cell_type": "code",
   "execution_count": 24,
   "metadata": {},
   "outputs": [
    {
     "data": {
      "text/html": [
       "<dl class=dl-horizontal>\n",
       "\t<dt>MandateFaceMask_fac</dt>\n",
       "\t\t<dd>1.01471958434905</dd>\n",
       "\t<dt>pop18_norm</dt>\n",
       "\t\t<dd>1.01471958434905</dd>\n",
       "</dl>\n"
      ],
      "text/latex": [
       "\\begin{description*}\n",
       "\\item[MandateFaceMask\\textbackslash{}\\_fac] 1.01471958434905\n",
       "\\item[pop18\\textbackslash{}\\_norm] 1.01471958434905\n",
       "\\end{description*}\n"
      ],
      "text/markdown": [
       "MandateFaceMask_fac\n",
       ":   1.01471958434905pop18_norm\n",
       ":   1.01471958434905\n",
       "\n"
      ],
      "text/plain": [
       "MandateFaceMask_fac          pop18_norm \n",
       "            1.01472             1.01472 "
      ]
     },
     "metadata": {},
     "output_type": "display_data"
    }
   ],
   "source": [
    "# Multicollinearity check\n",
    "vif(linearmodel1)"
   ]
  },
  {
   "cell_type": "markdown",
   "metadata": {},
   "source": [
    "As we have seen before, VIF of 1.01 for each regressor suggests that the factors are not co-related.\n",
    "Also we can see from coefficient values, population strongly explains the total number of cases, but face mask mandate does not. If face mask mandatae factor is fixed,for every unit change in population will increase the total case number by .68. hence Higher the population, higher the number of cases. \n",
    "Also p value for population factor is highly significant, suggesting it to be s strong predictor.\n",
    "From the adjusted R value, we see that Population and face mask mandate explain about 74% of the variation in total cases."
   ]
  },
  {
   "cell_type": "markdown",
   "metadata": {},
   "source": [
    "###### Improvement 1 on base model \n",
    "\n",
    "Now lets see if the error term can be explained by other covariates such as:\n",
    "1. Number of days face mask mandate was delayed\n",
    "2. Number of days business were closed\n",
    "3. Number of days stay at home policy was in place\n"
   ]
  },
  {
   "cell_type": "code",
   "execution_count": 25,
   "metadata": {},
   "outputs": [
    {
     "data": {
      "text/html": [
       "0.2"
      ],
      "text/latex": [
       "0.2"
      ],
      "text/markdown": [
       "0.2"
      ],
      "text/plain": [
       "[1] 0.2"
      ]
     },
     "metadata": {},
     "output_type": "display_data"
    },
    {
     "data": {
      "text/html": [
       "0.43"
      ],
      "text/latex": [
       "0.43"
      ],
      "text/markdown": [
       "0.43"
      ],
      "text/plain": [
       "[1] 0.43"
      ]
     },
     "metadata": {},
     "output_type": "display_data"
    },
    {
     "data": {
      "text/html": [
       "0.14"
      ],
      "text/latex": [
       "0.14"
      ],
      "text/markdown": [
       "0.14"
      ],
      "text/plain": [
       "[1] 0.14"
      ]
     },
     "metadata": {},
     "output_type": "display_data"
    }
   ],
   "source": [
    "# correlation between the key variables\n",
    "(correl_df4 <-round(cor(x=as.numeric(df$delay_facemask_mandate),y= df$case_norm), 2))\n",
    "(correl_df5<-round(cor(x=as.numeric(df$BusinessClosed_duration),y= df$case_norm), 2))\n",
    "(correl_df6<-round(cor(x=as.numeric(df$Stay_at_Home_duration),y= df$case_norm), 2))\n",
    "\n"
   ]
  },
  {
   "cell_type": "markdown",
   "metadata": {},
   "source": [
    "R value for correlation between the Business close duration and total cases is 0.43, suggesting it to be a good predictor. However stay at home duration is not showing it to be great predictor."
   ]
  },
  {
   "cell_type": "code",
   "execution_count": 26,
   "metadata": {},
   "outputs": [
    {
     "data": {
      "text/plain": [
       "\n",
       "Call:\n",
       "lm(formula = case_norm ~ MandateFaceMask_fac + pop18_norm + delay_facemask_mandate + \n",
       "    BusinessClosed_duration + Stay_at_Home_duration, data = df)\n",
       "\n",
       "Residuals:\n",
       "     Min       1Q   Median       3Q      Max \n",
       "-0.23128 -0.05683 -0.00556  0.03650  0.34131 \n",
       "\n",
       "Coefficients:\n",
       "                          Estimate Std. Error t value Pr(>|t|)    \n",
       "(Intercept)             -0.0242743  0.1137440  -0.213    0.832    \n",
       "MandateFaceMask_fac      0.0517850  0.0443902   1.167    0.250    \n",
       "pop18_norm               0.6630841  0.0722609   9.176 2.17e-11 ***\n",
       "delay_facemask_mandate  -0.0005367  0.0015507  -0.346    0.731    \n",
       "BusinessClosed_duration  0.0032068  0.0020373   1.574    0.123    \n",
       "Stay_at_Home_duration   -0.0021710  0.0014771  -1.470    0.149    \n",
       "---\n",
       "Signif. codes:  0 '***' 0.001 '**' 0.01 '*' 0.05 '.' 0.1 ' ' 1\n",
       "\n",
       "Residual standard error: 0.1131 on 40 degrees of freedom\n",
       "Multiple R-squared:  0.7794,\tAdjusted R-squared:  0.7519 \n",
       "F-statistic: 28.27 on 5 and 40 DF,  p-value: 3.844e-12\n"
      ]
     },
     "metadata": {},
     "output_type": "display_data"
    }
   ],
   "source": [
    "linearmodel2 <- lm(case_norm ~  MandateFaceMask_fac + pop18_norm +delay_facemask_mandate+ BusinessClosed_duration + Stay_at_Home_duration  , data = df)\n",
    "summary(linearmodel2 )\n"
   ]
  },
  {
   "cell_type": "code",
   "execution_count": 27,
   "metadata": {},
   "outputs": [
    {
     "data": {
      "text/html": [
       "<dl class=dl-horizontal>\n",
       "\t<dt>MandateFaceMask_fac</dt>\n",
       "\t\t<dd>1.20575668889508</dd>\n",
       "\t<dt>pop18_norm</dt>\n",
       "\t\t<dd>1.47904827123643</dd>\n",
       "\t<dt>delay_facemask_mandate</dt>\n",
       "\t\t<dd>1.4384554391244</dd>\n",
       "\t<dt>BusinessClosed_duration</dt>\n",
       "\t\t<dd>1.98764061687021</dd>\n",
       "\t<dt>Stay_at_Home_duration</dt>\n",
       "\t\t<dd>1.62420192845093</dd>\n",
       "</dl>\n"
      ],
      "text/latex": [
       "\\begin{description*}\n",
       "\\item[MandateFaceMask\\textbackslash{}\\_fac] 1.20575668889508\n",
       "\\item[pop18\\textbackslash{}\\_norm] 1.47904827123643\n",
       "\\item[delay\\textbackslash{}\\_facemask\\textbackslash{}\\_mandate] 1.4384554391244\n",
       "\\item[BusinessClosed\\textbackslash{}\\_duration] 1.98764061687021\n",
       "\\item[Stay\\textbackslash{}\\_at\\textbackslash{}\\_Home\\textbackslash{}\\_duration] 1.62420192845093\n",
       "\\end{description*}\n"
      ],
      "text/markdown": [
       "MandateFaceMask_fac\n",
       ":   1.20575668889508pop18_norm\n",
       ":   1.47904827123643delay_facemask_mandate\n",
       ":   1.4384554391244BusinessClosed_duration\n",
       ":   1.98764061687021Stay_at_Home_duration\n",
       ":   1.62420192845093\n",
       "\n"
      ],
      "text/plain": [
       "    MandateFaceMask_fac              pop18_norm  delay_facemask_mandate \n",
       "               1.205757                1.479048                1.438455 \n",
       "BusinessClosed_duration   Stay_at_Home_duration \n",
       "               1.987641                1.624202 "
      ]
     },
     "metadata": {},
     "output_type": "display_data"
    }
   ],
   "source": [
    "#multicollienarity check\n",
    "vif(linearmodel2)"
   ]
  },
  {
   "cell_type": "markdown",
   "metadata": {},
   "source": [
    "Since VIF of for each regressor is low (between 1 and 2), we can say that the factors are not co-related.\n",
    "\n",
    "In this improvement, we still find mandate of face mask as not a good regressor, as its p values is not significant. Population is still a good predictor with significant p value. \n",
    "business closed duration is showing better p value than other predictors, but still not significant enough.\n",
    "There is slight improvement in adjusted R value, but still the predictors can explain 75% of the variation in total cases.\n"
   ]
  },
  {
   "cell_type": "markdown",
   "metadata": {},
   "source": [
    "###### Improvement 2 on base model \n",
    "\n",
    "Now lets include all other covariates that were discussed:\n",
    "1. Number of days since face mask mandate has been applied in each state.\n",
    "2. Poverty under risk serious illenss due to COVID"
   ]
  },
  {
   "cell_type": "code",
   "execution_count": 28,
   "metadata": {},
   "outputs": [
    {
     "data": {
      "text/plain": [
       "\n",
       "Call:\n",
       "lm(formula = case_norm ~ MandateFaceMask_fac + pop18_norm + delay_facemask_mandate + \n",
       "    BusinessClosed_duration + Stay_at_Home_duration + DaysSince_Facemask_mandate + \n",
       "    at_risk_pop_norm, data = df)\n",
       "\n",
       "Residuals:\n",
       "     Min       1Q   Median       3Q      Max \n",
       "-0.20109 -0.05187 -0.01409  0.04732  0.28964 \n",
       "\n",
       "Coefficients:\n",
       "                            Estimate Std. Error t value Pr(>|t|)   \n",
       "(Intercept)                 0.457381   0.317280   1.442  0.15761   \n",
       "MandateFaceMask_fac         0.655116   0.383264   1.709  0.09555 . \n",
       "pop18_norm                  1.575173   0.493393   3.193  0.00283 **\n",
       "delay_facemask_mandate     -0.010074   0.006233  -1.616  0.11431   \n",
       "BusinessClosed_duration     0.003406   0.001967   1.731  0.09151 . \n",
       "Stay_at_Home_duration      -0.001767   0.001444  -1.224  0.22867   \n",
       "DaysSince_Facemask_mandate -0.009512   0.005957  -1.597  0.11860   \n",
       "at_risk_pop_norm           -0.926582   0.509339  -1.819  0.07677 . \n",
       "---\n",
       "Signif. codes:  0 '***' 0.001 '**' 0.01 '*' 0.05 '.' 0.1 ' ' 1\n",
       "\n",
       "Residual standard error: 0.1087 on 38 degrees of freedom\n",
       "Multiple R-squared:  0.8064,\tAdjusted R-squared:  0.7707 \n",
       "F-statistic: 22.61 on 7 and 38 DF,  p-value: 1.004e-11\n"
      ]
     },
     "metadata": {},
     "output_type": "display_data"
    }
   ],
   "source": [
    "linearmodel3 <- lm(case_norm ~ MandateFaceMask_fac + pop18_norm +  delay_facemask_mandate + BusinessClosed_duration + Stay_at_Home_duration+ DaysSince_Facemask_mandate + at_risk_pop_norm, data =df)\n",
    "summary(linearmodel3 )"
   ]
  },
  {
   "cell_type": "code",
   "execution_count": 29,
   "metadata": {},
   "outputs": [
    {
     "data": {
      "text/html": [
       "<dl class=dl-horizontal>\n",
       "\t<dt>MandateFaceMask_fac</dt>\n",
       "\t\t<dd>97.2813715407718</dd>\n",
       "\t<dt>pop18_norm</dt>\n",
       "\t\t<dd>74.6291875133065</dd>\n",
       "\t<dt>delay_facemask_mandate</dt>\n",
       "\t\t<dd>25.1503409356544</dd>\n",
       "\t<dt>BusinessClosed_duration</dt>\n",
       "\t\t<dd>2.00584356381876</dd>\n",
       "\t<dt>Stay_at_Home_duration</dt>\n",
       "\t\t<dd>1.67975071130948</dd>\n",
       "\t<dt>DaysSince_Facemask_mandate</dt>\n",
       "\t\t<dd>123.63891833973</dd>\n",
       "\t<dt>at_risk_pop_norm</dt>\n",
       "\t\t<dd>73.472468699208</dd>\n",
       "</dl>\n"
      ],
      "text/latex": [
       "\\begin{description*}\n",
       "\\item[MandateFaceMask\\textbackslash{}\\_fac] 97.2813715407718\n",
       "\\item[pop18\\textbackslash{}\\_norm] 74.6291875133065\n",
       "\\item[delay\\textbackslash{}\\_facemask\\textbackslash{}\\_mandate] 25.1503409356544\n",
       "\\item[BusinessClosed\\textbackslash{}\\_duration] 2.00584356381876\n",
       "\\item[Stay\\textbackslash{}\\_at\\textbackslash{}\\_Home\\textbackslash{}\\_duration] 1.67975071130948\n",
       "\\item[DaysSince\\textbackslash{}\\_Facemask\\textbackslash{}\\_mandate] 123.63891833973\n",
       "\\item[at\\textbackslash{}\\_risk\\textbackslash{}\\_pop\\textbackslash{}\\_norm] 73.472468699208\n",
       "\\end{description*}\n"
      ],
      "text/markdown": [
       "MandateFaceMask_fac\n",
       ":   97.2813715407718pop18_norm\n",
       ":   74.6291875133065delay_facemask_mandate\n",
       ":   25.1503409356544BusinessClosed_duration\n",
       ":   2.00584356381876Stay_at_Home_duration\n",
       ":   1.67975071130948DaysSince_Facemask_mandate\n",
       ":   123.63891833973at_risk_pop_norm\n",
       ":   73.472468699208\n",
       "\n"
      ],
      "text/plain": [
       "       MandateFaceMask_fac                 pop18_norm \n",
       "                 97.281372                  74.629188 \n",
       "    delay_facemask_mandate    BusinessClosed_duration \n",
       "                 25.150341                   2.005844 \n",
       "     Stay_at_Home_duration DaysSince_Facemask_mandate \n",
       "                  1.679751                 123.638918 \n",
       "          at_risk_pop_norm \n",
       "                 73.472469 "
      ]
     },
     "metadata": {},
     "output_type": "display_data"
    }
   ],
   "source": [
    "vif(linearmodel3)"
   ]
  },
  {
   "cell_type": "markdown",
   "metadata": {},
   "source": [
    "We see issue of multicollinearity with high VIF value for delay in facemask mandate with mandate face mask fac and days since face mask implementaed. This makes sense as they are correlated conceptually.\n",
    "We can see the same for at risk population and population 2018 which are also conceptually correlated.\n",
    "However we see that business closed duration and mandate in face mask factor have statistical significance with almost close to significant p value, however it is postively correlated with total cases."
   ]
  },
  {
   "cell_type": "markdown",
   "metadata": {},
   "source": [
    "## 3.  Assessment of CLM assumptions:\n",
    "#### Assumption MLR.1 (linear in parameters): \n",
    "1. Our model is represented as 𝑦=𝛽0+𝛽1*MandateFaceMask_fac+𝛽2*pop18_norm+𝑢. So by definition we have met this assumption\n",
    "\n",
    "\n",
    "\n",
    "\n"
   ]
  },
  {
   "cell_type": "markdown",
   "metadata": {},
   "source": [
    "#### Assumption MLR.2 (random sampling): \n",
    "1. The sampling method ensured all samples are randomly drawn from the population, and data points are iid—independently and identically distributed.\n",
    "2. No clustering happened in the sampling method, because we get total number of cases/death in each providence, instead of only examining a limited number of people\n",
    "3. No autocorrelation happened. We have cross-sectional data points, represented in each province, instead of time series data. So there is no significant correlation among samples in each province"
   ]
  },
  {
   "cell_type": "markdown",
   "metadata": {},
   "source": [
    "#### Assumption MLR.3 (no perfect collinearity): \n",
    "1. We choose MandateFaceMask_fac, and pop18_norm as our independent variables, and there is no exact relationships nor perfect collinearity among the independent variables\n"
   ]
  },
  {
   "cell_type": "markdown",
   "metadata": {},
   "source": [
    "#### Assumption MLR.4 (zero-conditional mean): \n",
    "1. we examine this assumption by looking at Residual vs Fitted value plot.\n",
    "2. Ideally we could get a flat red line representing zero conditional mean. \n",
    "3. Here we got some curvature on the far right in the red curve, but the magnitude of curvature is very small (<-0.2). This could be caused by the so few data points on the right side of the plot\n",
    "4. This non-normality is also reflected in the significance on the Shapiro test \n",
    "5. We don't have zero conditional mean. But because we have a large sample size of 46 (>30), we can rely on asymptotics and assess exogeneity. If we set aside causality and just look for the best fit line, exogeneity tells us that our estimates are consistent."
   ]
  },
  {
   "cell_type": "code",
   "execution_count": 30,
   "metadata": {},
   "outputs": [
    {
     "data": {
      "image/png": "[encoded data removed]",
      "text/plain": [
       "Plot with title \"\""
      ]
     },
     "metadata": {},
     "output_type": "display_data"
    },
    {
     "data": {
      "image/png": "[encoded data removed]",
      "text/plain": [
       "Plot with title \"\""
      ]
     },
     "metadata": {},
     "output_type": "display_data"
    },
    {
     "data": {
      "image/png": "[encoded data removed]",
      "text/plain": [
       "Plot with title \"\""
      ]
     },
     "metadata": {},
     "output_type": "display_data"
    },
    {
     "data": {
      "image/png": "[encoded data removed]",
      "text/plain": [
       "Plot with title \"\""
      ]
     },
     "metadata": {},
     "output_type": "display_data"
    }
   ],
   "source": [
    "plot(linearmodel1)"
   ]
  },
  {
   "cell_type": "code",
   "execution_count": 31,
   "metadata": {},
   "outputs": [
    {
     "data": {
      "text/plain": [
       "\n",
       "\tShapiro-Wilk normality test\n",
       "\n",
       "data:  linearmodel1$residual\n",
       "W = 0.9381, p-value = 0.01664\n"
      ]
     },
     "metadata": {},
     "output_type": "display_data"
    }
   ],
   "source": [
    "shapiro.test(linearmodel1$residual)"
   ]
  },
  {
   "cell_type": "markdown",
   "metadata": {},
   "source": [
    "#### Assumption MLR.5 (Homoskedasticity): \n",
    "1. We see from the scale-location plot, the red line is trending upwards, implying heteroskedasticity in our sample\n",
    "2. We will proceed with heteroskedastic robust errors"
   ]
  },
  {
   "cell_type": "code",
   "execution_count": 32,
   "metadata": {},
   "outputs": [],
   "source": [
    "#bptest(linearmodel1)"
   ]
  },
  {
   "cell_type": "code",
   "execution_count": 33,
   "metadata": {},
   "outputs": [
    {
     "data": {
      "text/plain": [
       "\n",
       "t test of coefficients:\n",
       "\n",
       "                     Estimate Std. Error t value  Pr(>|t|)    \n",
       "(Intercept)         -0.025243   0.031281 -0.8070   0.42412    \n",
       "MandateFaceMask_fac  0.050749   0.028649  1.7714   0.08358 .  \n",
       "pop18_norm           0.681705   0.089167  7.6452 1.516e-09 ***\n",
       "---\n",
       "Signif. codes:  0 '***' 0.001 '**' 0.01 '*' 0.05 '.' 0.1 ' ' 1\n"
      ]
     },
     "metadata": {},
     "output_type": "display_data"
    }
   ],
   "source": [
    "coeftest(linearmodel1, vcov = vcovHC)"
   ]
  },
  {
   "cell_type": "markdown",
   "metadata": {},
   "source": [
    "#### Assumption MLR.6 (Normality of error terms):\n",
    "1. From Q-Q plot, we could see standardized residual fits in a linear line in the middle of the plot, but there are some deviation on left and right side of the plot\n",
    "2. Because we have a large sample size of 46 (>30), we could invoke Central Limit Theorem here which states OLS estimators are normally distributed for large sample sizes.\n"
   ]
  },
  {
   "cell_type": "markdown",
   "metadata": {},
   "source": [
    "#### Influential Data Point:\n",
    "1. From Residuals vs Leverage plot, we could see there are no data points with greater than 0.5 Cook's distance. So there is no data point with large influence to the model"
   ]
  },
  {
   "cell_type": "markdown",
   "metadata": {},
   "source": [
    "## 4. Regression Table"
   ]
  },
  {
   "cell_type": "code",
   "execution_count": 34,
   "metadata": {},
   "outputs": [
    {
     "data": {
      "text/html": [
       "<dl class=dl-horizontal>\n",
       "\t<dt>(Intercept)</dt>\n",
       "\t\t<dd>0.0312808278664161</dd>\n",
       "\t<dt>MandateFaceMask_fac</dt>\n",
       "\t\t<dd>0.0286489342882922</dd>\n",
       "\t<dt>pop18_norm</dt>\n",
       "\t\t<dd>0.0891672072443351</dd>\n",
       "</dl>\n"
      ],
      "text/latex": [
       "\\begin{description*}\n",
       "\\item[(Intercept)] 0.0312808278664161\n",
       "\\item[MandateFaceMask\\textbackslash{}\\_fac] 0.0286489342882922\n",
       "\\item[pop18\\textbackslash{}\\_norm] 0.0891672072443351\n",
       "\\end{description*}\n"
      ],
      "text/markdown": [
       "(Intercept)\n",
       ":   0.0312808278664161MandateFaceMask_fac\n",
       ":   0.0286489342882922pop18_norm\n",
       ":   0.0891672072443351\n",
       "\n"
      ],
      "text/plain": [
       "        (Intercept) MandateFaceMask_fac          pop18_norm \n",
       "         0.03128083          0.02864893          0.08916721 "
      ]
     },
     "metadata": {},
     "output_type": "display_data"
    },
    {
     "data": {
      "text/html": [
       "<dl class=dl-horizontal>\n",
       "\t<dt>(Intercept)</dt>\n",
       "\t\t<dd>0.113380077694877</dd>\n",
       "\t<dt>MandateFaceMask_fac</dt>\n",
       "\t\t<dd>0.0328583950501688</dd>\n",
       "\t<dt>pop18_norm</dt>\n",
       "\t\t<dd>0.108273145032961</dd>\n",
       "\t<dt>delay_facemask_mandate</dt>\n",
       "\t\t<dd>0.00139339347994392</dd>\n",
       "\t<dt>BusinessClosed_duration</dt>\n",
       "\t\t<dd>0.00260867124668319</dd>\n",
       "\t<dt>Stay_at_Home_duration</dt>\n",
       "\t\t<dd>0.00130768281245004</dd>\n",
       "</dl>\n"
      ],
      "text/latex": [
       "\\begin{description*}\n",
       "\\item[(Intercept)] 0.113380077694877\n",
       "\\item[MandateFaceMask\\textbackslash{}\\_fac] 0.0328583950501688\n",
       "\\item[pop18\\textbackslash{}\\_norm] 0.108273145032961\n",
       "\\item[delay\\textbackslash{}\\_facemask\\textbackslash{}\\_mandate] 0.00139339347994392\n",
       "\\item[BusinessClosed\\textbackslash{}\\_duration] 0.00260867124668319\n",
       "\\item[Stay\\textbackslash{}\\_at\\textbackslash{}\\_Home\\textbackslash{}\\_duration] 0.00130768281245004\n",
       "\\end{description*}\n"
      ],
      "text/markdown": [
       "(Intercept)\n",
       ":   0.113380077694877MandateFaceMask_fac\n",
       ":   0.0328583950501688pop18_norm\n",
       ":   0.108273145032961delay_facemask_mandate\n",
       ":   0.00139339347994392BusinessClosed_duration\n",
       ":   0.00260867124668319Stay_at_Home_duration\n",
       ":   0.00130768281245004\n",
       "\n"
      ],
      "text/plain": [
       "            (Intercept)     MandateFaceMask_fac              pop18_norm \n",
       "            0.113380078             0.032858395             0.108273145 \n",
       " delay_facemask_mandate BusinessClosed_duration   Stay_at_Home_duration \n",
       "            0.001393393             0.002608671             0.001307683 "
      ]
     },
     "metadata": {},
     "output_type": "display_data"
    },
    {
     "data": {
      "text/html": [
       "<dl class=dl-horizontal>\n",
       "\t<dt>(Intercept)</dt>\n",
       "\t\t<dd>0.276005213349499</dd>\n",
       "\t<dt>MandateFaceMask_fac</dt>\n",
       "\t\t<dd>0.333124528329472</dd>\n",
       "\t<dt>pop18_norm</dt>\n",
       "\t\t<dd>0.788672477456652</dd>\n",
       "\t<dt>delay_facemask_mandate</dt>\n",
       "\t\t<dd>0.00542143620586441</dd>\n",
       "\t<dt>BusinessClosed_duration</dt>\n",
       "\t\t<dd>0.00246949641602444</dd>\n",
       "\t<dt>Stay_at_Home_duration</dt>\n",
       "\t\t<dd>0.00126350840895355</dd>\n",
       "\t<dt>DaysSince_Facemask_mandate</dt>\n",
       "\t\t<dd>0.00517802789639462</dd>\n",
       "\t<dt>at_risk_pop_norm</dt>\n",
       "\t\t<dd>0.810304627806105</dd>\n",
       "</dl>\n"
      ],
      "text/latex": [
       "\\begin{description*}\n",
       "\\item[(Intercept)] 0.276005213349499\n",
       "\\item[MandateFaceMask\\textbackslash{}\\_fac] 0.333124528329472\n",
       "\\item[pop18\\textbackslash{}\\_norm] 0.788672477456652\n",
       "\\item[delay\\textbackslash{}\\_facemask\\textbackslash{}\\_mandate] 0.00542143620586441\n",
       "\\item[BusinessClosed\\textbackslash{}\\_duration] 0.00246949641602444\n",
       "\\item[Stay\\textbackslash{}\\_at\\textbackslash{}\\_Home\\textbackslash{}\\_duration] 0.00126350840895355\n",
       "\\item[DaysSince\\textbackslash{}\\_Facemask\\textbackslash{}\\_mandate] 0.00517802789639462\n",
       "\\item[at\\textbackslash{}\\_risk\\textbackslash{}\\_pop\\textbackslash{}\\_norm] 0.810304627806105\n",
       "\\end{description*}\n"
      ],
      "text/markdown": [
       "(Intercept)\n",
       ":   0.276005213349499MandateFaceMask_fac\n",
       ":   0.333124528329472pop18_norm\n",
       ":   0.788672477456652delay_facemask_mandate\n",
       ":   0.00542143620586441BusinessClosed_duration\n",
       ":   0.00246949641602444Stay_at_Home_duration\n",
       ":   0.00126350840895355DaysSince_Facemask_mandate\n",
       ":   0.00517802789639462at_risk_pop_norm\n",
       ":   0.810304627806105\n",
       "\n"
      ],
      "text/plain": [
       "               (Intercept)        MandateFaceMask_fac \n",
       "               0.276005213                0.333124528 \n",
       "                pop18_norm     delay_facemask_mandate \n",
       "               0.788672477                0.005421436 \n",
       "   BusinessClosed_duration      Stay_at_Home_duration \n",
       "               0.002469496                0.001263508 \n",
       "DaysSince_Facemask_mandate           at_risk_pop_norm \n",
       "               0.005178028                0.810304628 "
      ]
     },
     "metadata": {},
     "output_type": "display_data"
    }
   ],
   "source": [
    "(se.model1 = coeftest(linearmodel1, vcov = vcovHC)[ , \"Std. Error\"])\n",
    "(se.model2 = coeftest(linearmodel2, vcov = vcovHC)[ , \"Std. Error\"])\n",
    "(se.model3 = coeftest(linearmodel3, vcov = vcovHC)[ , \"Std. Error\"])"
   ]
  },
  {
   "cell_type": "code",
   "execution_count": 35,
   "metadata": {},
   "outputs": [
    {
     "name": "stdout",
     "output_type": "stream",
     "text": [
      "\n",
      "==========================================================================\n",
      "                                         Dependent variable:              \n",
      "                           -----------------------------------------------\n",
      "                                              case_norm                   \n",
      "                                 (1)             (2)             (3)      \n",
      "--------------------------------------------------------------------------\n",
      "MandateFaceMask_fac             0.051           0.052          0.655*     \n",
      "                               (0.029)         (0.033)         (0.333)    \n",
      "                                                                          \n",
      "pop18_norm                    0.682***        0.663***         1.575*     \n",
      "                               (0.089)         (0.108)         (0.789)    \n",
      "                                                                          \n",
      "delay_facemask_mandate                         -0.001          -0.010     \n",
      "                                               (0.001)         (0.005)    \n",
      "                                                                          \n",
      "BusinessClosed_duration                         0.003           0.003     \n",
      "                                               (0.003)         (0.002)    \n",
      "                                                                          \n",
      "Stay_at_Home_duration                          -0.002          -0.002     \n",
      "                                               (0.001)         (0.001)    \n",
      "                                                                          \n",
      "DaysSince_Facemask_mandate                                     -0.010     \n",
      "                                                               (0.005)    \n",
      "                                                                          \n",
      "at_risk_pop_norm                                               -0.927     \n",
      "                                                               (0.810)    \n",
      "                                                                          \n",
      "Constant                       -0.025          -0.024           0.457     \n",
      "                               (0.031)         (0.113)         (0.276)    \n",
      "                                                                          \n",
      "--------------------------------------------------------------------------\n",
      "Observations                     46              46              46       \n",
      "R2                              0.754           0.779           0.806     \n",
      "Adjusted R2                     0.742           0.752           0.771     \n",
      "Residual Std. Error        0.115 (df = 43) 0.113 (df = 40) 0.109 (df = 38)\n",
      "==========================================================================\n",
      "Note:                                        *p<0.05; **p<0.01; ***p<0.001\n"
     ]
    }
   ],
   "source": [
    "stargazer(linearmodel1, linearmodel2, linearmodel3, type = \"text\", omit.stat = \"f\",\n",
    "          se = list(se.model1, se.model2, se.model3),\n",
    "          star.cutoffs = c(0.05, 0.01, 0.001))\n"
   ]
  },
  {
   "cell_type": "markdown",
   "metadata": {},
   "source": [
    "#### Statistical significance:\n",
    "1. In our model (1) and (2), Only one of the variable - pop18_norm is highly statistical significant after using heteroskedastic robust errors. \n",
    "2.  In model (3), after adding more independent variables, there are statistical significance for business closed duration and mandate_facemask_fac along with population variable. \n",
    "\n",
    "#### Practical significance:\n",
    "We assess practical signifiance based on the magnitude of estimated beta. \n",
    "1. pop18_norm has the most practical significance. In model (1) and (2), pop18_norm increase by 1 unit of standard deviation, number of cases will increase by 0.68 and 0.636 unit of standard deviation, respectively. In model (3), pop18_norm increase by 1 unit of standard deviation, number of cases will increase by 1.57 unit of standard deviation. \n",
    "2. Business closed duration show significance in model 3 with significant p value, where number of cases increase by 0.03 unit of standard deviation.\n",
    "3. From model (2) and (3), we see that delay_facemask_mandate is negatively correlated to number of cases, indicated that total cases increase with decrease in the delay. This is also contradicting our assumption.\n",
    "4. Stay at home duration is negatively correlated, which mean longer the stay at home , lesser number of cases are observed. this makes practical sense with our assumption.\n",
    "5. MandateFaceMask_fac dont show significant correlation with total number of cases in model (1) and (2), but show significance in model (3). However it is positively correlated with total cases which again does not go with our assumption.\n",
    "6. DaysSince_Facemask_mandate is negatively correlated with cases in model 3, showing that later the face mask mandate applied, higher are the number of cases. However, this variable does not have significant p value.\n"
   ]
  },
  {
   "cell_type": "markdown",
   "metadata": {},
   "source": [
    "## 5. A Discussion of Omitted Variables\n"
   ]
  },
  {
   "cell_type": "markdown",
   "metadata": {},
   "source": [
    "In this section we will identify the following variables as omitted variables and analysis their effect on the regression model:\n",
    "\n",
    "1. Medical capability\n",
    "2. Percentage transportation in public vehicle\n",
    "3. State population flow rate\n",
    "4. Time since first 50 covid case\n",
    "5. State GDP per capita in 2019\n",
    "\n",
    "Note our regression model can be represented as the following: \n",
    "\n",
    ">$y = \\beta_0 + \\beta_1\\text{MandateFaceMask_fac} + \\beta_2\\text{pop18_norm} + \\beta_3\\text{delay_facemask_mandate} + \\beta_4\\text{BusinessClosed_duration} + \\beta_5\\text{Stay_at_Home_duration} + \\mu$\n",
    "\n",
    "where y is the number of cases normalized.\n",
    "   \n",
    "Coefficients:\n",
    "                                   Estimate     \n",
    "(Intercept)                      -0.0242743     \n",
    "MandateFaceMask_fac               0.0517850      \n",
    "pop18_norm                        0.6630841      \n",
    "delay_facemask_mandate           -0.0005367      \n",
    "BusinessClosed_duration           0.0032068      \n",
    "Stay_at_Home_duration            -0.0021710      \n",
    "\n",
    "We assume the omitted bias is introduced with the omitted variable included in $\\mu$ such that:\n",
    ">$y = (\\beta_0+\\beta_6\\delta_0) + (\\beta_1+\\beta_6\\delta_1)\\text{MandateFaceMask_fac} + (\\beta_2+\\beta_6\\delta_2)\\text{pop18_norm} + (\\beta_3+\\beta_6\\delta_3)\\text{delay_facemask_mandate} + (\\beta_4+\\beta_6\\delta_4)\\text{BusinessClosed_duration} + (\\beta_5+\\beta_6\\delta_5)\\text{Stay_at_Home_duration} + \\mu$\n",
    "\n",
    "where $\\beta_6$ is the coefficient of the omitted variable and $\\delta_x$ is its relationship with other variables respectively.\n",
    "\n",
    "The following discussion around individual omitted variables will be referring to the equation mentioned above.\n",
    "\n",
    "\n",
    "#### Medical Capability\n",
    "\n",
    "##### Summary\n",
    "> If $\\beta_6 < 0$ and $\\delta_1 < 0$ then $OMVB = \\beta_6\\delta_1>0$ and if $\\beta_1 < 0$ then the OLS coefficient on $\\text{delay_facemask_mandate}$ will be scaled towards zero (less negative) losing statistical significance.\n",
    "\n",
    "\n",
    "##### Reasoning\n",
    "The medical capability (MC) should be negatively correlated with the number of covid cases. As the medical capabilities goes up, people are treated more quickly thus reducing the possible spread of the virus.\n",
    "\n",
    "The medical capability would be negatively correalted with the delay_facemask_mandate. This is because if the medical supply is abundant, it would be quicker to provide citizens with face mask resources.\n",
    "\n",
    "The medical capability is assumed to be independent with all other variables.\n",
    "\n",
    "In this case, since MC is negatively correlated with y and negatively correlated with delay_facemask_mandate, \n",
    "$\\beta_1+\\beta_6\\delta_1$ has the latter part as a positive number. This biases the overall result towards 0 as $\\beta_1$ is found to be a negative number. Thus, omitting this variable reduces the effect of delay_facemask_mandate.\n",
    "\n",
    "\n",
    "#### Percentage Transportation In Public Vehicle\n",
    "\n",
    "##### Summary\n",
    "> If $\\beta_6 > 0$ and $\\delta_4 < 0$ then $OMVB = \\beta_6\\delta_4<0$ and if $\\beta_4 > 0$ then the OLS coefficient on $\\text{BusinessClosed_duration}$ will be scaled towards zero (less positive) losing statistical significance.\n",
    "\n",
    "\n",
    "##### Reasoning\n",
    "\n",
    "The percentage transporation in public vehicle (PTPV) should be positively correlated with the number of covid cases. As the percentage of transportation done in the public vehicles increases, it is reasonable to assume that people will spread the virus quicker, thus increasing the number of cases.\n",
    "\n",
    "The PTPV should be negatively correlated BusinessClosed_duration. The assumption is the greater the PIPV, the lower the average income of the state; the lower the average income, the quicker the businesses has to be reopen to boost the economy so people don't go bankrupt. \n",
    "\n",
    "The PIPV is assumed to be independent of all other variables.\n",
    "\n",
    "In this case, since PIPV is positively correlated with y and negatively correlated with BusinessClosed_duration, $\\beta_4+\\beta_6\\delta_4$ has the latter part as a negative number. Since $\\beta_4$ is a positive number, this omitted variable will bias the result towards 0. Thus, omitting this variable reduces the effect of BusinessClosed_duration.\n",
    "\n",
    "It is possible to estimate this variable using Percent living under the federal poverty line (2018) because these two variables both estimate the underlying variable: the economic well-being of the residents in the state.\n",
    "\n",
    "\n",
    "\n",
    "#### State Population Flow Rate\n",
    "\n",
    "##### Summary\n",
    "> If $\\beta_6 > 0$ and $\\delta_5 < 0$ then $OMVB = \\beta_6\\delta_5<0$ and if $\\beta_5 < 0$ then the OLS coefficient on $\\text{Stay_at_Home_duration}$ will be scaled away from zero (more negative) gaining statistical significance.\n",
    "\n",
    "\n",
    "##### Reasoning\n",
    "\n",
    "The state population flow rate (SPFR) should be positively correlated with the number of covid cases. The greater the flow rate in and out the state, the higher the chances for covid to transmit, thus higher the number of cases.\n",
    "\n",
    "The SPFR should be negative correlated with Stay_at_Home_duration. This is because the longer the stay at home duration, the less travel is going to be done in and out the state.\n",
    "\n",
    "The SPFR is assumed to be independent of all other variables.\n",
    "\n",
    "In this case, since SPFR is positively correlated with the # of covid cases and negatively correlated with the Stay_at_Home_duration, $\\beta_5+\\beta_6\\delta_5$ has the latter part as a negative number. Since $\\beta_5$ is estimated to be negative, this bias actually pushed the result away from 0. This could imply that Stay_at_Home_duration doesn't actually have an impact on the # of covid cases.\n",
    "\n",
    "\n",
    "#### Time Since First 50 Covid Cases\n",
    "\n",
    "##### Summary\n",
    "> If $\\beta_6 > 0$ and $\\delta_3 < 0$ then $OMVB = \\beta_6\\delta_3<0$ and if $\\beta_3 < 0$ then the OLS coefficient on $\\text{delay_facemask_mandate}$ will be scaled away from zero (more negative) gaining statistical significance.\n",
    "\n",
    "\n",
    "##### Reasoning\n",
    "\n",
    "It is important to look at the time since the first 50 covid cases (TSF50Covid) because the greater the time, the more cases are accumulated. It is positively correlated with y.\n",
    "\n",
    "The TSF50Covid would be negatively correlated with the delay_facemask_mandate. This is because the longer the time since the first 50 cases, the more likely the state is going to implement the mandate face mask policy earlier. \n",
    "\n",
    "The TSF50Covid is assumed to be independent of all other variables.\n",
    "\n",
    "In this case, TSF50Covid is positively correlated with # of covid cases and negatively correlated with delay_facemask_mandate, $\\beta_3+\\beta_6\\delta_3$ is going to have the latter as a negative number. Since $\\beta_3$ is a negative number, this omitted variable is pushing the result away from 0.\n",
    "\n",
    "It is possible to estimate this variable using the date of state emergency as it is reasonable to assume the state emergency is only issued when the covid situation is severe enough.\n",
    "\n",
    "\n",
    "#### State GDP Per Capita In 2019\n",
    "\n",
    "##### Summary\n",
    "> If $\\beta_6 < 0$ and $\\delta_4 > 0$ then $OMVB = \\beta_6\\delta_4<0$ and if $\\beta_4 > 0$ then the OLS coefficient on $\\text{BusinessClosed_duration}$ will be scaled towards zero (less positive) losing statistical significance.\n",
    "\n",
    "\n",
    "##### Reasoning\n",
    "\n",
    "The state GDP per capita in 2019 (SGDP) should be negatively correlated with the number of covid cases. As the state GDP increases, it would be easier for people to stay at home for longer period of time without working, it is reasonable to assume that people will thus spread the virus slower, lowering the total number of cases.\n",
    "\n",
    "The SGDP should be positively correlated BusinessClosed_duration. The assumption is the greater the SGDP, the more savings people have and thus the longer the businesses can remained closed without appling pressure to be reopened.\n",
    "\n",
    "The SGDP is assumed to be independent of all other variables.\n",
    "\n",
    "In this case, since SGDP is negatively correlated with y and positively correlated with BusinessClosed_duration, $\\beta_4+\\beta_6\\delta_4$ has the latter part as a negative number. Since $\\beta_4$ is a positive number, this omitted variable will bias the result towards 0. Thus, omitting this variable decreases the appeared effect of BusinessClosed_duration. In this sense, the business closed duration may actually have more of an impact than what we have measured it to be.\n",
    "\n",
    "It is possible to estimate this variable using Percent living under the federal poverty line (2018) because these two variables both estimate the underlying variable: the economic well-being of the residents in the state."
   ]
  },
  {
   "cell_type": "markdown",
   "metadata": {},
   "source": [
    "## 6. A Conclusion\n",
    "\n",
    "\n"
   ]
  },
  {
   "cell_type": "markdown",
   "metadata": {},
   "source": [
    "\n",
    "\n",
    "In the models that was built, we expected to find correlation between the policy of mandate face mask in public facing businesses and the total number of covid-19 cases. To our surprise, these two variables are slightly positively correlated with a weight of .2 with almost no stastical significance (p < 0.05). It contradicts our hypothesis that the mandated face mask policy will result in lesser number of covid cases. Furthermore, we find that the delay in application of  face mask policy is negatively correlated with the over all covid caess, which demonstrates a counter intuitive implication that earlier adoption of mandating face mask is correlated with a greater number of covid cases. Therefore, relating back to the research question of whether mandating face masks in public facing business reduces the spread of covid-19, we found that to be not the case.\n",
    "\n",
    "Though the data does not support our hypothesis, we still encourage other studies to be done on related topics. In hindsight, the dataset that was available was not adequately appropriate for the effect that we are trying to measure. The presence of omitted variable such as the timeline of the spread of the virus and peak point for each state inhibits the ability to accurately assess the realistic time indepdent impact of the virus.\n",
    "\n",
    "However, the result shed light on how the mandate face mask policy was implemented. Given the correlation that was found in the model, it can be explained by how policies are created. The policy of mandating face mask usage is going to be implemented, and, earlier in time, if there is an imminent threat of the virus. The correlation that we found was an indication that the policy makers are unwilling to take certain measure for prevention until it is too late. This would be a great hypothesis for another study."
   ]
  },
  {
   "cell_type": "code",
   "execution_count": null,
   "metadata": {},
   "outputs": [],
   "source": []
  }
 ],
 "metadata": {
  "kernelspec": {
   "display_name": "R",
   "language": "R",
   "name": "ir"
  },
  "language_info": {
   "codemirror_mode": "r",
   "file_extension": ".r",
   "mimetype": "text/x-r-source",
   "name": "R",
   "pygments_lexer": "r",
   "version": "3.6.1"
  },
  "toc": {
   "base_numbering": 1,
   "nav_menu": {},
   "number_sections": true,
   "sideBar": true,
   "skip_h1_title": true,
   "title_cell": "Table of Contents",
   "title_sidebar": "Contents",
   "toc_cell": false,
   "toc_position": {},
   "toc_section_display": true,
   "toc_window_display": false
  },
  "varInspector": {
   "cols": {
    "lenName": 16,
    "lenType": 16,
    "lenVar": 40
   },
   "kernels_config": {
    "python": {
     "delete_cmd_postfix": "",
     "delete_cmd_prefix": "del ",
     "library": "var_list.py",
     "varRefreshCmd": "print(var_dic_list())"
    },
    "r": {
     "delete_cmd_postfix": ") ",
     "delete_cmd_prefix": "rm(",
     "library": "var_list.r",
     "varRefreshCmd": "cat(var_dic_list()) "
    }
   },
   "types_to_exclude": [
    "module",
    "function",
    "builtin_function_or_method",
    "instance",
    "_Feature"
   ],
   "window_display": false
  }
 },
 "nbformat": 4,
 "nbformat_minor": 4
}
